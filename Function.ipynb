{
 "cells": [
  {
   "cell_type": "raw",
   "id": "77d2e085",
   "metadata": {},
   "source": [
    "    q1 : Try to print a prime number in between 1 to 1000\n",
    "    q2 : Try to write a function which  is equivalent  to print function in python\n",
    "    q3 : Try to write a function which is a replica of list append , extend and pop function \n",
    "    q4 : Try to write a lambda function which can return a concatination of all the string that we will pass\n",
    "    q5 : Try to write a lambda function which can return list of square of all the data between 1-100 \n",
    "    q6 : Try to write a 10 Different different example of lambda function with a choice of your taks \n",
    "    q7 : Try to wwrite a funtion whihc can perform a read operation from .txt file \n",
    "        "
   ]
  },
  {
   "cell_type": "code",
   "execution_count": 1,
   "id": "5611d56d",
   "metadata": {},
   "outputs": [
    {
     "name": "stdout",
     "output_type": "stream",
     "text": [
      " 2   3   5   7   11   13   17   19   23   29   31   37   41   43   47   53   59   61   67   71   73   79   83   89   97  "
     ]
    }
   ],
   "source": [
    "# q1\n",
    "Number = 1\n",
    "\n",
    "while(Number <= 100):\n",
    "    count = 0\n",
    "    i = 2\n",
    "    \n",
    "    while(i <= Number//2):\n",
    "        if(Number % i == 0):\n",
    "            count = count + 1\n",
    "            break\n",
    "        i = i + 1\n",
    "\n",
    "    if (count == 0 and Number != 1):\n",
    "        print(\" %d\" %Number, end = '  ')\n",
    "    Number = Number  + 1"
   ]
  },
  {
   "cell_type": "code",
   "execution_count": 5,
   "id": "4ec662e7",
   "metadata": {},
   "outputs": [],
   "source": [
    "#q3\n",
    "def append(lst,object):\n",
    "    lst.insert(len(lst)+1,object)\n",
    "\n",
    "def extend(lst1,lst2):\n",
    "    for i in lst2:\n",
    "        lst1.insert(len(lst1)+1,i)\n",
    "\n",
    "def pop(lst,index=-1):\n",
    "    if index==-1:\n",
    "        removed_index=len(lst)-1\n",
    "        del lst[index]\n",
    "    else:\n",
    "        removed_index=index\n",
    "        del lst[index]\n",
    "    return removed_index\n",
    "    "
   ]
  },
  {
   "cell_type": "code",
   "execution_count": 6,
   "id": "f8df6789",
   "metadata": {},
   "outputs": [],
   "source": [
    "#q4\n",
    "n=lambda *args:\"\".join(args)"
   ]
  },
  {
   "cell_type": "code",
   "execution_count": 9,
   "id": "141e72f1",
   "metadata": {},
   "outputs": [
    {
     "data": {
      "text/plain": [
       "<function __main__.<lambda>(*args)>"
      ]
     },
     "execution_count": 9,
     "metadata": {},
     "output_type": "execute_result"
    }
   ],
   "source": [
    "#q5\n",
    "lambda *args:[x**2 for x in range(1,arg)]"
   ]
  },
  {
   "cell_type": "code",
   "execution_count": 8,
   "id": "b00f2ed4",
   "metadata": {},
   "outputs": [],
   "source": [
    "#q7\n",
    "def read_txt(file):\n",
    "    return open(file).read()\n"
   ]
  },
  {
   "cell_type": "code",
   "execution_count": null,
   "id": "14bf70a0",
   "metadata": {},
   "outputs": [],
   "source": []
  }
 ],
 "metadata": {
  "kernelspec": {
   "display_name": "Python 3 (ipykernel)",
   "language": "python",
   "name": "python3"
  },
  "language_info": {
   "codemirror_mode": {
    "name": "ipython",
    "version": 3
   },
   "file_extension": ".py",
   "mimetype": "text/x-python",
   "name": "python",
   "nbconvert_exporter": "python",
   "pygments_lexer": "ipython3",
   "version": "3.9.12"
  }
 },
 "nbformat": 4,
 "nbformat_minor": 5
}
